{
 "cells": [
  {
   "cell_type": "code",
   "execution_count": 1,
   "metadata": {
    "_cell_guid": "b1076dfc-b9ad-4769-8c92-a6c4dae69d19",
    "_uuid": "8f2839f25d086af736a60e9eeb907d3b93b6e0e5"
   },
   "outputs": [
    {
     "name": "stdout",
     "output_type": "stream",
     "text": [
      "['02', '00', '03', '06', '05', '09', '08', '07', '04', '01']\n"
     ]
    }
   ],
   "source": [
    "import numpy as np # linear algebra\n",
    "import pandas as pd # data processing, CSV file I/O (e.g. pd.read_csv)\n",
    "\n",
    "\n",
    "import os\n",
    "print(os.listdir(\"../input/leapgestrecog/leapGestRecog\"))\n",
    "\n",
    "# Any results you write to the current directory are saved as output."
   ]
  },
  {
   "cell_type": "code",
   "execution_count": 2,
   "metadata": {
    "_cell_guid": "79c7e3d0-c299-4dcb-8224-4455121ee9b0",
    "_uuid": "d629ff2d2480ee46fbb7e2d37f6b5fab8052498a"
   },
   "outputs": [
    {
     "name": "stdout",
     "output_type": "stream",
     "text": [
      "The different classes that exist in this dataset are:\n",
      "{'05_thumb', '06_index', '07_ok', '02_l', '08_palm_moved', '03_fist', '10_down', '09_c', '01_palm', '04_fist_moved'}\n"
     ]
    }
   ],
   "source": [
    "import os\n",
    "import numpy as np\n",
    "from PIL import Image\n",
    "import matplotlib.image as mpimg \n",
    "import numpy as np\n",
    "import matplotlib.pyplot as plt\n",
    "import matplotlib.cm as cm\n",
    "import IPython.display\n",
    "path='../input/leapgestrecog/leapGestRecog'\n",
    "folders=os.listdir(path)\n",
    "folders=set(folders)\n",
    "\n",
    "import codecs\n",
    "import json\n",
    "\n",
    "\n",
    "different_classes=os.listdir(path+'/'+'00')\n",
    "different_classes=set(different_classes)\n",
    "\n",
    "\n",
    "\n",
    "\n",
    "print(\"The different classes that exist in this dataset are:\")\n",
    "print(different_classes,sep='\\n')"
   ]
  },
  {
   "cell_type": "code",
   "execution_count": 3,
   "metadata": {},
   "outputs": [
    {
     "name": "stdout",
     "output_type": "stream",
     "text": [
      "*** 06 ***\n",
      "05_thumb\n",
      "06_index\n",
      "07_ok\n",
      "02_l\n",
      "08_palm_moved\n",
      "03_fist\n",
      "10_down\n",
      "09_c\n",
      "01_palm\n",
      "04_fist_moved\n",
      "*** 08 ***\n",
      "05_thumb\n",
      "06_index\n",
      "07_ok\n",
      "02_l\n",
      "08_palm_moved\n",
      "03_fist\n",
      "10_down\n",
      "09_c\n",
      "01_palm\n",
      "04_fist_moved\n",
      "*** 04 ***\n",
      "05_thumb\n",
      "06_index\n",
      "07_ok\n",
      "02_l\n",
      "08_palm_moved\n",
      "03_fist\n",
      "10_down\n",
      "09_c\n",
      "01_palm\n",
      "04_fist_moved\n",
      "*** 05 ***\n",
      "05_thumb\n",
      "06_index\n",
      "07_ok\n",
      "02_l\n",
      "08_palm_moved\n",
      "03_fist\n",
      "10_down\n",
      "09_c\n",
      "01_palm\n",
      "04_fist_moved\n",
      "*** 00 ***\n",
      "05_thumb\n",
      "06_index\n",
      "07_ok\n",
      "02_l\n",
      "08_palm_moved\n",
      "03_fist\n",
      "10_down\n",
      "09_c\n",
      "01_palm\n",
      "04_fist_moved\n",
      "*** 01 ***\n",
      "05_thumb\n",
      "06_index\n",
      "07_ok\n",
      "02_l\n",
      "08_palm_moved\n",
      "03_fist\n",
      "10_down\n",
      "09_c\n",
      "01_palm\n",
      "04_fist_moved\n",
      "*** 02 ***\n",
      "05_thumb\n",
      "06_index\n",
      "07_ok\n",
      "02_l\n",
      "08_palm_moved\n",
      "03_fist\n",
      "10_down\n",
      "09_c\n",
      "01_palm\n",
      "04_fist_moved\n",
      "*** 03 ***\n",
      "05_thumb\n",
      "06_index\n",
      "07_ok\n",
      "02_l\n",
      "08_palm_moved\n",
      "03_fist\n",
      "10_down\n",
      "09_c\n",
      "01_palm\n",
      "04_fist_moved\n",
      "*** 07 ***\n",
      "05_thumb\n",
      "06_index\n",
      "07_ok\n",
      "02_l\n",
      "08_palm_moved\n",
      "03_fist\n",
      "10_down\n",
      "09_c\n",
      "01_palm\n",
      "04_fist_moved\n",
      "*** 09 ***\n",
      "05_thumb\n",
      "06_index\n",
      "07_ok\n",
      "02_l\n",
      "08_palm_moved\n",
      "03_fist\n",
      "10_down\n",
      "09_c\n",
      "01_palm\n",
      "04_fist_moved\n",
      "[1, 2, 3, 4, 5, 6, 7, 8, 9, 10]\n"
     ]
    }
   ],
   "source": [
    "x=[]\n",
    "z=[]\n",
    "y=[]#converting the image to black and white\n",
    "threshold=200\n",
    "import cv2\n",
    "\n",
    "\n",
    "for i in folders:\n",
    "    print('***',i,'***')\n",
    "    subject=path+'/'+i\n",
    "    subdir=os.listdir(subject)\n",
    "    subdir=set(subdir)\n",
    "    for j in subdir:\n",
    "        print(j)\n",
    "        images=os.listdir(subject+'/'+j)\n",
    "        for k in images:\n",
    "            results=dict()\n",
    "            results['y']=j.split('_')[0]\n",
    "            img = cv2.imread(subject+'/'+j+'/'+k,0)\n",
    "            img=cv2.resize(img,(int(160),int(60)))\n",
    "            \n",
    "            ret, imgf = cv2.threshold(img, 0, 255, cv2.THRESH_BINARY+cv2.THRESH_OTSU)\n",
    "            imgD=np.asarray(img,dtype=np.float64)\n",
    "            z.append(imgD)\n",
    "            imgf=np.asarray(imgf,dtype=np.float64)\n",
    "            x.append(imgf)\n",
    "            y.append(int(j.split('_')[0]))\n",
    "            results['x']=imgf\n",
    "\n",
    "print(list(set(y)))\n",
    "        \n",
    "# import pandas as pd \n",
    "# df=pd.DataFrame({'x':x,'y':y})\n",
    "# df.to_csv('results.csv',index=False)"
   ]
  },
  {
   "cell_type": "code",
   "execution_count": 4,
   "metadata": {},
   "outputs": [
    {
     "name": "stdout",
     "output_type": "stream",
     "text": [
      "Class Label: 1\n"
     ]
    },
    {
     "data": {
      "image/png": "[encoded data removed]",
      "text/plain": [
       "<Figure size 432x288 with 1 Axes>"
      ]
     },
     "metadata": {},
     "output_type": "display_data"
    },
    {
     "data": {
      "image/png": "[encoded data removed]",
      "text/plain": [
       "<Figure size 432x288 with 1 Axes>"
      ]
     },
     "metadata": {},
     "output_type": "display_data"
    },
    {
     "name": "stdout",
     "output_type": "stream",
     "text": [
      "Class Label: 2\n"
     ]
    },
    {
     "data": {
      "image/png": "[encoded data removed]",
      "text/plain": [
       "<Figure size 432x288 with 1 Axes>"
      ]
     },
     "metadata": {},
     "output_type": "display_data"
    },
    {
     "data": {
      "image/png": "[encoded data removed]",
      "text/plain": [
       "<Figure size 432x288 with 1 Axes>"
      ]
     },
     "metadata": {},
     "output_type": "display_data"
    },
    {
     "name": "stdout",
     "output_type": "stream",
     "text": [
      "Class Label: 3\n"
     ]
    },
    {
     "data": {
      "image/png": "[encoded data removed]",
      "text/plain": [
       "<Figure size 432x288 with 1 Axes>"
      ]
     },
     "metadata": {},
     "output_type": "display_data"
    },
    {
     "data": {
      "image/png": "[encoded data removed]",
      "text/plain": [
       "<Figure size 432x288 with 1 Axes>"
      ]
     },
     "metadata": {},
     "output_type": "display_data"
    },
    {
     "name": "stdout",
     "output_type": "stream",
     "text": [
      "Class Label: 4\n"
     ]
    },
    {
     "data": {
      "image/png": "[encoded data removed]",
      "text/plain": [
       "<Figure size 432x288 with 1 Axes>"
      ]
     },
     "metadata": {},
     "output_type": "display_data"
    },
    {
     "data": {
      "image/png": "[encoded data removed]",
      "text/plain": [
       "<Figure size 432x288 with 1 Axes>"
      ]
     },
     "metadata": {},
     "output_type": "display_data"
    },
    {
     "name": "stdout",
     "output_type": "stream",
     "text": [
      "Class Label: 5\n"
     ]
    },
    {
     "data": {
      "image/png": "[encoded data removed]",
      "text/plain": [
       "<Figure size 432x288 with 1 Axes>"
      ]
     },
     "metadata": {},
     "output_type": "display_data"
    },
    {
     "data": {
      "image/png": "[encoded data removed]",
      "text/plain": [
       "<Figure size 432x288 with 1 Axes>"
      ]
     },
     "metadata": {},
     "output_type": "display_data"
    },
    {
     "name": "stdout",
     "output_type": "stream",
     "text": [
      "Class Label: 6\n"
     ]
    },
    {
     "data": {
      "image/png": "[encoded data removed]",
      "text/plain": [
       "<Figure size 432x288 with 1 Axes>"
      ]
     },
     "metadata": {},
     "output_type": "display_data"
    },
    {
     "data": {
      "image/png": "[encoded data removed]",
      "text/plain": [
       "<Figure size 432x288 with 1 Axes>"
      ]
     },
     "metadata": {},
     "output_type": "display_data"
    },
    {
     "name": "stdout",
     "output_type": "stream",
     "text": [
      "Class Label: 7\n"
     ]
    },
    {
     "data": {
      "image/png": "[encoded data removed]",
      "text/plain": [
       "<Figure size 432x288 with 1 Axes>"
      ]
     },
     "metadata": {},
     "output_type": "display_data"
    },
    {
     "data": {
      "image/png": "[encoded data removed]",
      "text/plain": [
       "<Figure size 432x288 with 1 Axes>"
      ]
     },
     "metadata": {},
     "output_type": "display_data"
    },
    {
     "name": "stdout",
     "output_type": "stream",
     "text": [
      "Class Label: 8\n"
     ]
    },
    {
     "data": {
      "image/png": "[encoded data removed]",
      "text/plain": [
       "<Figure size 432x288 with 1 Axes>"
      ]
     },
     "metadata": {},
     "output_type": "display_data"
    },
    {
     "data": {
      "image/png": "[encoded data removed]",
      "text/plain": [
       "<Figure size 432x288 with 1 Axes>"
      ]
     },
     "metadata": {},
     "output_type": "display_data"
    },
    {
     "name": "stdout",
     "output_type": "stream",
     "text": [
      "Class Label: 9\n"
     ]
    },
    {
     "data": {
      "image/png": "[encoded data removed]",
      "text/plain": [
       "<Figure size 432x288 with 1 Axes>"
      ]
     },
     "metadata": {},
     "output_type": "display_data"
    },
    {
     "data": {
      "image/png": "[encoded data removed]",
      "text/plain": [
       "<Figure size 432x288 with 1 Axes>"
      ]
     },
     "metadata": {},
     "output_type": "display_data"
    },
    {
     "name": "stdout",
     "output_type": "stream",
     "text": [
      "Class Label: 10\n"
     ]
    },
    {
     "data": {
      "image/png": "[encoded data removed]",
      "text/plain": [
       "<Figure size 432x288 with 1 Axes>"
      ]
     },
     "metadata": {},
     "output_type": "display_data"
    },
    {
     "data": {
      "image/png": "[encoded data removed]",
      "text/plain": [
       "<Figure size 432x288 with 1 Axes>"
      ]
     },
     "metadata": {},
     "output_type": "display_data"
    }
   ],
   "source": [
    "#sample black and white image from each class\n",
    "l = []\n",
    "list_names = []\n",
    "for i in range(10):\n",
    "    l.append(0)\n",
    "for i in range(len(x)):\n",
    "    if(l[y[i] - 1] == 0):\n",
    "        l[y[i] - 1] = i\n",
    "        if(len(np.unique(l)) == 10):\n",
    "            break\n",
    "for i in range(len(l)):\n",
    "    %matplotlib inline\n",
    "    print(\"Class Label: \" + str(i + 1))\n",
    "    plt.imshow(np.asarray(z[l[i]]), cmap  =cm.gray)\n",
    "    plt.show()\n",
    "    plt.imshow(np.asarray(x[l[i]]), cmap = cm.gray)     \n",
    "    plt.show()"
   ]
  },
  {
   "cell_type": "code",
   "execution_count": 5,
   "metadata": {},
   "outputs": [
    {
     "name": "stdout",
     "output_type": "stream",
     "text": [
      "(20000, 60, 160)\n",
      "(20000, 1)\n",
      "[10] [1]\n"
     ]
    }
   ],
   "source": [
    "x=np.array(x)\n",
    "y=np.array(y)\n",
    "y = y.reshape(len(x), 1)\n",
    "print(x.shape)\n",
    "print(y.shape)\n",
    "print(max(y),min(y))"
   ]
  },
  {
   "cell_type": "code",
   "execution_count": 6,
   "metadata": {},
   "outputs": [],
   "source": [
    "x_data = x.reshape((len(x), 60, 160, 1))\n",
    "\n",
    "x_data/=255\n",
    "x_data=list(x_data)\n",
    "for i in range(len(x_data)):\n",
    "    x_data[i]=x_data[i].flatten()"
   ]
  },
  {
   "cell_type": "markdown",
   "metadata": {},
   "source": [
    "## PCA to the data"
   ]
  },
  {
   "cell_type": "code",
   "execution_count": 7,
   "metadata": {},
   "outputs": [
    {
     "name": "stdout",
     "output_type": "stream",
     "text": [
      "[0.25498139 0.08075452 0.06690615 0.041779  ]\n",
      "[1529.79553924  860.91952673  783.6320034   619.23884367]\n"
     ]
    }
   ],
   "source": [
    "from sklearn.decomposition import PCA\n",
    "pca = PCA(n_components=4)\n",
    "x_data=np.array(x_data)\n",
    "x_data=pca.fit_transform(x_data)\n",
    "print(pca.explained_variance_ratio_)  \n",
    "print(pca.singular_values_)  "
   ]
  },
  {
   "cell_type": "code",
   "execution_count": 8,
   "metadata": {},
   "outputs": [],
   "source": [
    "from sklearn.model_selection import train_test_split\n",
    "x_train,x_further,y_train,y_further = train_test_split(x_data,y,test_size = 0.2)\n"
   ]
  },
  {
   "cell_type": "markdown",
   "metadata": {},
   "source": [
    "## SGD classifier"
   ]
  },
  {
   "cell_type": "code",
   "execution_count": 9,
   "metadata": {},
   "outputs": [],
   "source": [
    "from sklearn.preprocessing import StandardScaler  \n",
    "scaler = StandardScaler()  \n",
    "scaler.fit(x_train)\n",
    "\n",
    "X_train = scaler.transform(x_train)  \n",
    "X_test = scaler.transform(x_further)  "
   ]
  },
  {
   "cell_type": "code",
   "execution_count": 10,
   "metadata": {},
   "outputs": [
    {
     "name": "stdout",
     "output_type": "stream",
     "text": [
      "accuracy of the model is:\n",
      "Test  0.20525\n",
      "Train 0.192375\n"
     ]
    },
    {
     "name": "stderr",
     "output_type": "stream",
     "text": [
      "/opt/conda/lib/python3.6/site-packages/sklearn/linear_model/stochastic_gradient.py:166: FutureWarning: max_iter and tol parameters have been added in SGDClassifier in 0.19. If both are left unset, they default to max_iter=5 and tol=None. If tol is not None, max_iter defaults to max_iter=1000. From 0.21, default max_iter will be 1000, and default tol will be 1e-3.\n",
      "  FutureWarning)\n",
      "/opt/conda/lib/python3.6/site-packages/sklearn/utils/validation.py:761: DataConversionWarning: A column-vector y was passed when a 1d array was expected. Please change the shape of y to (n_samples, ), for example using ravel().\n",
      "  y = column_or_1d(y, warn=True)\n"
     ]
    }
   ],
   "source": [
    "from sklearn.linear_model import SGDClassifier\n",
    "sgd= SGDClassifier(loss='modified_huber',shuffle=True,random_state=101)\n",
    "sgd.fit(X_train, y_train)\n",
    "y_pred_sgd = sgd.predict(X_test) \n",
    "y_train_score_sgd=sgd.predict(X_train)\n",
    "from sklearn.metrics import accuracy_score\n",
    "print(\"accuracy of the model is:\\nTest \", accuracy_score(y_further, y_pred_sgd, normalize=True, sample_weight=None))\n",
    "print('Train',accuracy_score(y_train, y_train_score_sgd, normalize=True, sample_weight=None))"
   ]
  },
  {
   "cell_type": "markdown",
   "metadata": {},
   "source": [
    "## KNN"
   ]
  },
  {
   "cell_type": "code",
   "execution_count": 11,
   "metadata": {},
   "outputs": [
    {
     "name": "stderr",
     "output_type": "stream",
     "text": [
      "/opt/conda/lib/python3.6/site-packages/ipykernel_launcher.py:3: DataConversionWarning: A column-vector y was passed when a 1d array was expected. Please change the shape of y to (n_samples, ), for example using ravel().\n",
      "  This is separate from the ipykernel package so we can avoid doing imports until\n"
     ]
    },
    {
     "data": {
      "text/plain": [
       "KNeighborsClassifier(algorithm='auto', leaf_size=30, metric='minkowski',\n",
       "           metric_params=None, n_jobs=None, n_neighbors=5, p=2,\n",
       "           weights='uniform')"
      ]
     },
     "execution_count": 11,
     "metadata": {},
     "output_type": "execute_result"
    }
   ],
   "source": [
    "from sklearn.neighbors import KNeighborsClassifier  \n",
    "classifier = KNeighborsClassifier(n_neighbors=5)  \n",
    "classifier.fit(X_train, y_train)  \n"
   ]
  },
  {
   "cell_type": "code",
   "execution_count": 12,
   "metadata": {},
   "outputs": [],
   "source": [
    "y_pred_knn = classifier.predict(X_test)  "
   ]
  },
  {
   "cell_type": "code",
   "execution_count": 13,
   "metadata": {},
   "outputs": [],
   "source": [
    "y_train_score_knn=classifier.predict(X_train)"
   ]
  },
  {
   "cell_type": "code",
   "execution_count": 14,
   "metadata": {},
   "outputs": [
    {
     "name": "stdout",
     "output_type": "stream",
     "text": [
      "accuracy of the model is:\n",
      "Test  0.9645\n",
      "Train 0.98125\n"
     ]
    }
   ],
   "source": [
    "from sklearn.metrics import accuracy_score\n",
    "print(\"accuracy of the model is:\\nTest \", accuracy_score(y_further, y_pred_knn, normalize=True, sample_weight=None))\n",
    "print('Train',accuracy_score(y_train, y_train_score_knn, normalize=True, sample_weight=None))"
   ]
  },
  {
   "cell_type": "markdown",
   "metadata": {},
   "source": [
    "## Decision tree"
   ]
  },
  {
   "cell_type": "code",
   "execution_count": 15,
   "metadata": {},
   "outputs": [],
   "source": [
    "from sklearn import tree\n",
    "clf = tree.DecisionTreeClassifier(max_depth=10)\n",
    "clf = clf.fit(X_train, y_train)"
   ]
  },
  {
   "cell_type": "code",
   "execution_count": 16,
   "metadata": {},
   "outputs": [],
   "source": [
    "y_pred_dt=clf.predict(X_test)\n",
    "y_train_score_dt=clf.predict(X_train)"
   ]
  },
  {
   "cell_type": "code",
   "execution_count": 17,
   "metadata": {},
   "outputs": [
    {
     "name": "stdout",
     "output_type": "stream",
     "text": [
      "accuracy of the model is:\n",
      "Test  0.84275\n",
      "Train 0.8703125\n"
     ]
    }
   ],
   "source": [
    "print(\"accuracy of the model is:\\nTest \", accuracy_score(y_further, y_pred_dt, normalize=True, sample_weight=None))\n",
    "print('Train',accuracy_score(y_train, y_train_score_dt, normalize=True, sample_weight=None))"
   ]
  },
  {
   "cell_type": "markdown",
   "metadata": {},
   "source": [
    "## Random forest"
   ]
  },
  {
   "cell_type": "code",
   "execution_count": 18,
   "metadata": {},
   "outputs": [
    {
     "name": "stderr",
     "output_type": "stream",
     "text": [
      "/opt/conda/lib/python3.6/site-packages/ipykernel_launcher.py:3: DataConversionWarning: A column-vector y was passed when a 1d array was expected. Please change the shape of y to (n_samples,), for example using ravel().\n",
      "  This is separate from the ipykernel package so we can avoid doing imports until\n"
     ]
    }
   ],
   "source": [
    "from sklearn.ensemble import RandomForestClassifier\n",
    "clf_rft = RandomForestClassifier(n_estimators=100, max_depth=15,random_state=0)\n",
    "clf_rft = clf_rft.fit(X_train, y_train)\n"
   ]
  },
  {
   "cell_type": "code",
   "execution_count": 19,
   "metadata": {},
   "outputs": [],
   "source": [
    "y_pred_rft=clf_rft.predict(X_test)\n",
    "y_train_score_rft=clf_rft.predict(X_train)"
   ]
  },
  {
   "cell_type": "code",
   "execution_count": 20,
   "metadata": {},
   "outputs": [
    {
     "name": "stdout",
     "output_type": "stream",
     "text": [
      "accuracy of the model is:\n",
      "Test  0.97\n",
      "Train 0.9968125\n"
     ]
    }
   ],
   "source": [
    "print(\"accuracy of the model is:\\nTest \", accuracy_score(y_further, y_pred_rft, normalize=True, sample_weight=None))\n",
    "print('Train',accuracy_score(y_train, y_train_score_rft, normalize=True, sample_weight=None))"
   ]
  },
  {
   "cell_type": "markdown",
   "metadata": {},
   "source": [
    "## Logistic Regression"
   ]
  },
  {
   "cell_type": "code",
   "execution_count": 21,
   "metadata": {},
   "outputs": [
    {
     "name": "stderr",
     "output_type": "stream",
     "text": [
      "/opt/conda/lib/python3.6/site-packages/sklearn/utils/validation.py:761: DataConversionWarning: A column-vector y was passed when a 1d array was expected. Please change the shape of y to (n_samples, ), for example using ravel().\n",
      "  y = column_or_1d(y, warn=True)\n",
      "/opt/conda/lib/python3.6/site-packages/sklearn/linear_model/logistic.py:460: FutureWarning: Default multi_class will be changed to 'auto' in 0.22. Specify the multi_class option to silence this warning.\n",
      "  \"this warning.\", FutureWarning)\n"
     ]
    },
    {
     "name": "stdout",
     "output_type": "stream",
     "text": [
      "accuracy of the model is:\n",
      "Test  0.2865\n",
      "Train 0.290625\n"
     ]
    }
   ],
   "source": [
    "\n",
    "\n",
    "from sklearn.linear_model import LogisticRegression\n",
    "logistic = LogisticRegression(solver = 'lbfgs')\n",
    "logistic.fit(X_train, y_train)\n",
    "y_pred_logistic=logistic.predict(X_test)\n",
    "y_train_score_logistic=logistic.predict(X_train)\n",
    "print(\"accuracy of the model is:\\nTest \", accuracy_score(y_further, y_pred_logistic, normalize=True, sample_weight=None))\n",
    "print('Train',accuracy_score(y_train, y_train_score_logistic, normalize=True, sample_weight=None))"
   ]
  },
  {
   "cell_type": "markdown",
   "metadata": {},
   "source": [
    "## Naive Bayes"
   ]
  },
  {
   "cell_type": "code",
   "execution_count": 22,
   "metadata": {},
   "outputs": [
    {
     "name": "stdout",
     "output_type": "stream",
     "text": [
      "accuracy of the model is:\n",
      "Test  0.29125\n",
      "Train 0.298375\n"
     ]
    },
    {
     "name": "stderr",
     "output_type": "stream",
     "text": [
      "/opt/conda/lib/python3.6/site-packages/sklearn/utils/validation.py:761: DataConversionWarning: A column-vector y was passed when a 1d array was expected. Please change the shape of y to (n_samples, ), for example using ravel().\n",
      "  y = column_or_1d(y, warn=True)\n"
     ]
    }
   ],
   "source": [
    "from sklearn.naive_bayes import GaussianNB \n",
    "gnb = GaussianNB() \n",
    "gnb.fit(X_train, y_train)\n",
    "y_pred_gnb=gnb.predict(X_test)\n",
    "y_train_score_gnb=gnb.predict(X_train)\n",
    "print(\"accuracy of the model is:\\nTest \", accuracy_score(y_further, y_pred_gnb, normalize=True, sample_weight=None))\n",
    "print('Train',accuracy_score(y_train, y_train_score_gnb, normalize=True, sample_weight=None))"
   ]
  },
  {
   "cell_type": "markdown",
   "metadata": {},
   "source": [
    "## ANN"
   ]
  },
  {
   "cell_type": "code",
   "execution_count": 23,
   "metadata": {},
   "outputs": [
    {
     "name": "stderr",
     "output_type": "stream",
     "text": [
      "/opt/conda/lib/python3.6/site-packages/sklearn/neural_network/multilayer_perceptron.py:916: DataConversionWarning: A column-vector y was passed when a 1d array was expected. Please change the shape of y to (n_samples, ), for example using ravel().\n",
      "  y = column_or_1d(y, warn=True)\n"
     ]
    },
    {
     "name": "stdout",
     "output_type": "stream",
     "text": [
      "accuracy of the model is:\n",
      "Test  0.861\n",
      "Train 0.8739375\n"
     ]
    },
    {
     "name": "stderr",
     "output_type": "stream",
     "text": [
      "/opt/conda/lib/python3.6/site-packages/sklearn/neural_network/multilayer_perceptron.py:562: ConvergenceWarning: Stochastic Optimizer: Maximum iterations (200) reached and the optimization hasn't converged yet.\n",
      "  % self.max_iter, ConvergenceWarning)\n"
     ]
    }
   ],
   "source": [
    "from sklearn.neural_network import MLPClassifier\n",
    "\n",
    "ann_clf = MLPClassifier()\n",
    "ann_clf.fit(X_train, y_train)\n",
    "y_pred_ann=ann_clf.predict(X_test)\n",
    "y_train_score_ann=ann_clf.predict(X_train)\n",
    "print(\"accuracy of the model is:\\nTest \", accuracy_score(y_further, y_pred_ann, normalize=True, sample_weight=None))\n",
    "print('Train',accuracy_score(y_train, y_train_score_ann, normalize=True, sample_weight=None))"
   ]
  },
  {
   "cell_type": "markdown",
   "metadata": {},
   "source": [
    "## Gradient Descent Classifier"
   ]
  },
  {
   "cell_type": "code",
   "execution_count": 24,
   "metadata": {},
   "outputs": [
    {
     "name": "stderr",
     "output_type": "stream",
     "text": [
      "/opt/conda/lib/python3.6/site-packages/sklearn/utils/validation.py:761: DataConversionWarning: A column-vector y was passed when a 1d array was expected. Please change the shape of y to (n_samples, ), for example using ravel().\n",
      "  y = column_or_1d(y, warn=True)\n"
     ]
    },
    {
     "name": "stdout",
     "output_type": "stream",
     "text": [
      "accuracy of the model is:\n",
      "Test  0.095\n",
      "Train 0.10125\n"
     ]
    }
   ],
   "source": [
    "from sklearn.ensemble import AdaBoostRegressor\n",
    "from sklearn.ensemble import GradientBoostingClassifier\n",
    "gdc_model= GradientBoostingClassifier(learning_rate=0.01,random_state=1)\n",
    "gdc_model.fit(x_train, y_train)\n",
    "y_pred_gdc=gdc_model.predict(X_test)\n",
    "y_train_score_gdc=gdc_model.predict(X_train)\n",
    "print(\"accuracy of the model is:\\nTest \", accuracy_score(y_further, y_pred_gdc, normalize=True, sample_weight=None))\n",
    "print('Train',accuracy_score(y_train, y_train_score_gdc, normalize=True, sample_weight=None))"
   ]
  },
  {
   "cell_type": "markdown",
   "metadata": {},
   "source": [
    "## SVM"
   ]
  },
  {
   "cell_type": "code",
   "execution_count": 25,
   "metadata": {},
   "outputs": [
    {
     "name": "stderr",
     "output_type": "stream",
     "text": [
      "/opt/conda/lib/python3.6/site-packages/sklearn/utils/validation.py:761: DataConversionWarning: A column-vector y was passed when a 1d array was expected. Please change the shape of y to (n_samples, ), for example using ravel().\n",
      "  y = column_or_1d(y, warn=True)\n"
     ]
    },
    {
     "name": "stdout",
     "output_type": "stream",
     "text": [
      "accuracy of the model is:\n",
      "Test  0.8875\n",
      "Train 0.902375\n"
     ]
    }
   ],
   "source": [
    "from sklearn.svm import SVC \n",
    "svm_model_rbf = SVC(kernel = 'rbf', C = 10,probability=True).fit(X_train, y_train) \n",
    "y_pred_svm=svm_model_rbf.predict(X_test)\n",
    "y_train_score_svm=svm_model_rbf.predict(X_train)\n",
    "print(\"accuracy of the model is:\\nTest \", accuracy_score(y_further, y_pred_svm, normalize=True, sample_weight=None))\n",
    "print('Train',accuracy_score(y_train, y_train_score_svm, normalize=True, sample_weight=None))"
   ]
  },
  {
   "cell_type": "markdown",
   "metadata": {},
   "source": [
    "## Voting for all the models"
   ]
  },
  {
   "cell_type": "code",
   "execution_count": 26,
   "metadata": {},
   "outputs": [
    {
     "name": "stderr",
     "output_type": "stream",
     "text": [
      "/opt/conda/lib/python3.6/site-packages/sklearn/preprocessing/label.py:219: DataConversionWarning: A column-vector y was passed when a 1d array was expected. Please change the shape of y to (n_samples, ), for example using ravel().\n",
      "  y = column_or_1d(y, warn=True)\n",
      "/opt/conda/lib/python3.6/site-packages/sklearn/preprocessing/label.py:252: DataConversionWarning: A column-vector y was passed when a 1d array was expected. Please change the shape of y to (n_samples, ), for example using ravel().\n",
      "  y = column_or_1d(y, warn=True)\n",
      "/opt/conda/lib/python3.6/site-packages/sklearn/linear_model/logistic.py:460: FutureWarning: Default multi_class will be changed to 'auto' in 0.22. Specify the multi_class option to silence this warning.\n",
      "  \"this warning.\", FutureWarning)\n",
      "/opt/conda/lib/python3.6/site-packages/sklearn/neural_network/multilayer_perceptron.py:562: ConvergenceWarning: Stochastic Optimizer: Maximum iterations (200) reached and the optimization hasn't converged yet.\n",
      "  % self.max_iter, ConvergenceWarning)\n",
      "/opt/conda/lib/python3.6/site-packages/sklearn/linear_model/stochastic_gradient.py:166: FutureWarning: max_iter and tol parameters have been added in SGDClassifier in 0.19. If both are left unset, they default to max_iter=5 and tol=None. If tol is not None, max_iter defaults to max_iter=1000. From 0.21, default max_iter will be 1000, and default tol will be 1e-3.\n",
      "  FutureWarning)\n"
     ]
    },
    {
     "name": "stdout",
     "output_type": "stream",
     "text": [
      "accuracy of the model is:\n",
      "Test  0.94975\n",
      "Train 0.97225\n"
     ]
    }
   ],
   "source": [
    "from sklearn.ensemble import VotingClassifier\n",
    "model = VotingClassifier(estimators=[('logistic',logistic),('nb',gnb),('gdc',gdc_model),('ann',ann_clf),('clf_rft',clf_rft),('dt',clf),('sv',svm_model_rbf),('knn',classifier),('stochastic',sgd)],voting='soft')\n",
    "model.fit(X_train, y_train)\n",
    "y_pred=model.predict(X_test)\n",
    "y_train_score=model.predict(X_train)\n",
    "print(\"accuracy of the model is:\\nTest \", accuracy_score(y_further, y_pred, normalize=True, sample_weight=None))\n",
    "print('Train',accuracy_score(y_train, y_train_score, normalize=True, sample_weight=None))"
   ]
  },
  {
   "cell_type": "markdown",
   "metadata": {},
   "source": [
    "## Stacking"
   ]
  },
  {
   "cell_type": "code",
   "execution_count": 27,
   "metadata": {},
   "outputs": [
    {
     "name": "stderr",
     "output_type": "stream",
     "text": [
      "/opt/conda/lib/python3.6/site-packages/sklearn/neural_network/multilayer_perceptron.py:916: DataConversionWarning: A column-vector y was passed when a 1d array was expected. Please change the shape of y to (n_samples, ), for example using ravel().\n",
      "  y = column_or_1d(y, warn=True)\n"
     ]
    },
    {
     "name": "stdout",
     "output_type": "stream",
     "text": [
      "accuracy of the model is:\n",
      "Test  0.9685\n",
      "Train 0.9984375\n"
     ]
    },
    {
     "name": "stderr",
     "output_type": "stream",
     "text": [
      "/opt/conda/lib/python3.6/site-packages/sklearn/neural_network/multilayer_perceptron.py:562: ConvergenceWarning: Stochastic Optimizer: Maximum iterations (200) reached and the optimization hasn't converged yet.\n",
      "  % self.max_iter, ConvergenceWarning)\n"
     ]
    }
   ],
   "source": [
    "stacking_xtest=[[y_pred_svm[i],y_pred[i],y_pred_ann[i],y_pred_rft[i],y_pred_dt[i],y_pred_knn[i],y_pred_sgd[i],y_pred_logistic[i],y_pred_gnb[i],y_pred_gdc[i]] for i in range(len(X_test))]\n",
    "stacking_xtrain=[[y_train_score_svm[i],y_train_score[i],y_train_score_ann[i],y_train_score_rft[i],y_train_score_dt[i],y_train_score_knn[i],y_train_score_sgd[i],y_train_score_logistic[i],y_train_score_gnb[i],y_train_score_gdc[i]] for i in range(len(X_train))]\n",
    "\n",
    "\n",
    "ann_stacking = MLPClassifier()\n",
    "ann_stacking.fit(stacking_xtrain, y_train)\n",
    "y_pred_stacking=ann_stacking.predict(stacking_xtest)\n",
    "y_train_score_stacking=ann_stacking.predict(stacking_xtrain)\n",
    "print(\"accuracy of the model is:\\nTest \", accuracy_score(y_further, y_pred_stacking, normalize=True, sample_weight=None))\n",
    "print('Train',accuracy_score(y_train, y_train_score_stacking, normalize=True, sample_weight=None))\n",
    "\n"
   ]
  },
  {
   "cell_type": "code",
   "execution_count": 28,
   "metadata": {},
   "outputs": [],
   "source": [
    "names=['Stochastic Gradient Classifier','K Nearest Neighbour','Decision Tree','Random Forest Tree','Logistic Regression','Naive Bayes','Artificial Neural Network','Gradient Descent Classifier','Support Vector Machine','Voting','Stacking']\n",
    "all_models=[y_pred_sgd,y_pred_knn,y_pred_dt,y_pred_rft,y_pred_logistic,y_pred_gnb,y_pred_ann,y_pred_gdc,y_pred_svm,y_pred,y_pred_stacking]\n",
    "all_training=[y_train_score_sgd,y_train_score_knn,y_train_score_dt,y_train_score_rft,y_train_score_logistic,y_train_score_gnb]\n",
    "all_training+=[y_train_score_ann,y_train_score_gdc,y_train_score_svm,y_train_score,y_train_score_stacking]\n",
    "testing_accuracy=[]\n",
    "training_accuracy=[]\n",
    "for i in all_models:\n",
    "    testing_accuracy.append(accuracy_score(y_further, i, normalize=True, sample_weight=None))\n",
    "for i in all_training:\n",
    "    training_accuracy.append(accuracy_score(y_train, i, normalize=True, sample_weight=None))\n"
   ]
  },
  {
   "cell_type": "code",
   "execution_count": 29,
   "metadata": {},
   "outputs": [
    {
     "data": {
      "text/html": [
       "<div>\n",
       "<style scoped>\n",
       "    .dataframe tbody tr th:only-of-type {\n",
       "        vertical-align: middle;\n",
       "    }\n",
       "\n",
       "    .dataframe tbody tr th {\n",
       "        vertical-align: top;\n",
       "    }\n",
       "\n",
       "    .dataframe thead th {\n",
       "        text-align: right;\n",
       "    }\n",
       "</style>\n",
       "<table border=\"1\" class=\"dataframe\">\n",
       "  <thead>\n",
       "    <tr style=\"text-align: right;\">\n",
       "      <th></th>\n",
       "      <th>Names</th>\n",
       "      <th>Training Accuracy</th>\n",
       "      <th>Testing Accuracy</th>\n",
       "    </tr>\n",
       "  </thead>\n",
       "  <tbody>\n",
       "    <tr>\n",
       "      <th>0</th>\n",
       "      <td>Stochastic Gradient Classifier</td>\n",
       "      <td>0.192375</td>\n",
       "      <td>0.20525</td>\n",
       "    </tr>\n",
       "    <tr>\n",
       "      <th>1</th>\n",
       "      <td>K Nearest Neighbour</td>\n",
       "      <td>0.981250</td>\n",
       "      <td>0.96450</td>\n",
       "    </tr>\n",
       "    <tr>\n",
       "      <th>2</th>\n",
       "      <td>Decision Tree</td>\n",
       "      <td>0.870313</td>\n",
       "      <td>0.84275</td>\n",
       "    </tr>\n",
       "    <tr>\n",
       "      <th>3</th>\n",
       "      <td>Random Forest Tree</td>\n",
       "      <td>0.996812</td>\n",
       "      <td>0.97000</td>\n",
       "    </tr>\n",
       "    <tr>\n",
       "      <th>4</th>\n",
       "      <td>Logistic Regression</td>\n",
       "      <td>0.290625</td>\n",
       "      <td>0.28650</td>\n",
       "    </tr>\n",
       "    <tr>\n",
       "      <th>5</th>\n",
       "      <td>Naive Bayes</td>\n",
       "      <td>0.298375</td>\n",
       "      <td>0.29125</td>\n",
       "    </tr>\n",
       "    <tr>\n",
       "      <th>6</th>\n",
       "      <td>Artificial Neural Network</td>\n",
       "      <td>0.873938</td>\n",
       "      <td>0.86100</td>\n",
       "    </tr>\n",
       "    <tr>\n",
       "      <th>7</th>\n",
       "      <td>Gradient Descent Classifier</td>\n",
       "      <td>0.101250</td>\n",
       "      <td>0.09500</td>\n",
       "    </tr>\n",
       "    <tr>\n",
       "      <th>8</th>\n",
       "      <td>Support Vector Machine</td>\n",
       "      <td>0.902375</td>\n",
       "      <td>0.88750</td>\n",
       "    </tr>\n",
       "    <tr>\n",
       "      <th>9</th>\n",
       "      <td>Voting</td>\n",
       "      <td>0.972250</td>\n",
       "      <td>0.94975</td>\n",
       "    </tr>\n",
       "    <tr>\n",
       "      <th>10</th>\n",
       "      <td>Stacking</td>\n",
       "      <td>0.998437</td>\n",
       "      <td>0.96850</td>\n",
       "    </tr>\n",
       "  </tbody>\n",
       "</table>\n",
       "</div>"
      ],
      "text/plain": [
       "                             Names        ...         Testing Accuracy\n",
       "0   Stochastic Gradient Classifier        ...                  0.20525\n",
       "1              K Nearest Neighbour        ...                  0.96450\n",
       "2                    Decision Tree        ...                  0.84275\n",
       "3               Random Forest Tree        ...                  0.97000\n",
       "4              Logistic Regression        ...                  0.28650\n",
       "5                      Naive Bayes        ...                  0.29125\n",
       "6        Artificial Neural Network        ...                  0.86100\n",
       "7      Gradient Descent Classifier        ...                  0.09500\n",
       "8           Support Vector Machine        ...                  0.88750\n",
       "9                           Voting        ...                  0.94975\n",
       "10                        Stacking        ...                  0.96850\n",
       "\n",
       "[11 rows x 3 columns]"
      ]
     },
     "execution_count": 29,
     "metadata": {},
     "output_type": "execute_result"
    }
   ],
   "source": [
    "import pandas as pd\n",
    "df=pd.DataFrame({'Names':names,'Training Accuracy':training_accuracy,'Testing Accuracy':testing_accuracy})\n",
    "df=df[['Names','Training Accuracy','Testing Accuracy']]\n",
    "df"
   ]
  },
  {
   "cell_type": "code",
   "execution_count": 30,
   "metadata": {},
   "outputs": [],
   "source": []
  }
 ],
 "metadata": {
  "kernelspec": {
   "display_name": "Python 3",
   "language": "python",
   "name": "python3"
  },
  "language_info": {
   "codemirror_mode": {
    "name": "ipython",
    "version": 3
   },
   "file_extension": ".py",
   "mimetype": "text/x-python",
   "name": "python",
   "nbconvert_exporter": "python",
   "pygments_lexer": "ipython3",
   "version": "3.6.8"
  }
 },
 "nbformat": 4,
 "nbformat_minor": 1
}
